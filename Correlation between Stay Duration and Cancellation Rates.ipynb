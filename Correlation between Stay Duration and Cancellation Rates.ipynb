{
 "cells": [
  {
   "cell_type": "code",
   "execution_count": 1,
   "metadata": {},
   "outputs": [],
   "source": [
    "import pandas as pd\n",
    "import numpy as np\n",
    "import matplotlib.pyplot as plt\n",
    "import seaborn as sns\n",
    "import warnings\n",
    "warnings.filterwarnings('ignore')"
   ]
  },
  {
   "cell_type": "code",
   "execution_count": 2,
   "metadata": {},
   "outputs": [],
   "source": [
    "df = pd.read_csv('dataset_after_preprocessing.csv')"
   ]
  },
  {
   "cell_type": "code",
   "execution_count": 3,
   "metadata": {},
   "outputs": [],
   "source": [
    "# Membuat kolom stay_duration\n",
    "df['stay_duration'] = df['stays_in_weekdays_nights'] + df['stays_in_weekend_nights']"
   ]
  },
  {
   "cell_type": "code",
   "execution_count": 4,
   "metadata": {},
   "outputs": [
    {
     "data": {
      "text/plain": [
       "count    119386.000000\n",
       "mean          3.427914\n",
       "std           2.557444\n",
       "min           0.000000\n",
       "25%           2.000000\n",
       "50%           3.000000\n",
       "75%           4.000000\n",
       "max          69.000000\n",
       "Name: stay_duration, dtype: float64"
      ]
     },
     "execution_count": 4,
     "metadata": {},
     "output_type": "execute_result"
    }
   ],
   "source": [
    "# Melihat sebaran data kolom stay_duration\n",
    "df['stay_duration'].describe()"
   ]
  },
  {
   "cell_type": "code",
   "execution_count": 5,
   "metadata": {},
   "outputs": [],
   "source": [
    "# Mengelompokkan value pada kolom stay_duration\n",
    "bin_edges = [0, 10, 20, 30, 40, 50, 60, 70]\n",
    "\n",
    "stay_duration_group = pd.cut(df['stay_duration'], bins=bin_edges, right=False, labels=[f\"{i}-{i+9}\" for i in range(0, 70, 10)])\n",
    "df['stay_duration'] = stay_duration_group"
   ]
  },
  {
   "cell_type": "markdown",
   "metadata": {},
   "source": [
    "### Perbandingan jumlah pemesanan hotel yang dibatalkan terhadap durasi menginap untuk setiap jenis hotel"
   ]
  },
  {
   "cell_type": "code",
   "execution_count": 6,
   "metadata": {},
   "outputs": [
    {
     "data": {
      "text/html": [
       "<div>\n",
       "<style scoped>\n",
       "    .dataframe tbody tr th:only-of-type {\n",
       "        vertical-align: middle;\n",
       "    }\n",
       "\n",
       "    .dataframe tbody tr th {\n",
       "        vertical-align: top;\n",
       "    }\n",
       "\n",
       "    .dataframe thead th {\n",
       "        text-align: right;\n",
       "    }\n",
       "</style>\n",
       "<table border=\"1\" class=\"dataframe\">\n",
       "  <thead>\n",
       "    <tr style=\"text-align: right;\">\n",
       "      <th></th>\n",
       "      <th>hotel</th>\n",
       "      <th>stay_duration</th>\n",
       "      <th>is_canceled</th>\n",
       "      <th>total_bookings</th>\n",
       "      <th>cancellation_ratio</th>\n",
       "    </tr>\n",
       "  </thead>\n",
       "  <tbody>\n",
       "    <tr>\n",
       "      <th>0</th>\n",
       "      <td>City Hotel</td>\n",
       "      <td>0-9</td>\n",
       "      <td>32691</td>\n",
       "      <td>153215.0</td>\n",
       "      <td>21.3</td>\n",
       "    </tr>\n",
       "    <tr>\n",
       "      <th>1</th>\n",
       "      <td>City Hotel</td>\n",
       "      <td>10-19</td>\n",
       "      <td>345</td>\n",
       "      <td>1130.0</td>\n",
       "      <td>30.5</td>\n",
       "    </tr>\n",
       "    <tr>\n",
       "      <th>2</th>\n",
       "      <td>City Hotel</td>\n",
       "      <td>20-29</td>\n",
       "      <td>52</td>\n",
       "      <td>102.0</td>\n",
       "      <td>51.0</td>\n",
       "    </tr>\n",
       "    <tr>\n",
       "      <th>3</th>\n",
       "      <td>City Hotel</td>\n",
       "      <td>30-39</td>\n",
       "      <td>10</td>\n",
       "      <td>20.0</td>\n",
       "      <td>50.0</td>\n",
       "    </tr>\n",
       "    <tr>\n",
       "      <th>4</th>\n",
       "      <td>City Hotel</td>\n",
       "      <td>40-49</td>\n",
       "      <td>0</td>\n",
       "      <td>2.0</td>\n",
       "      <td>0.0</td>\n",
       "    </tr>\n",
       "    <tr>\n",
       "      <th>5</th>\n",
       "      <td>City Hotel</td>\n",
       "      <td>50-59</td>\n",
       "      <td>0</td>\n",
       "      <td>0.0</td>\n",
       "      <td>0.0</td>\n",
       "    </tr>\n",
       "    <tr>\n",
       "      <th>6</th>\n",
       "      <td>City Hotel</td>\n",
       "      <td>60-69</td>\n",
       "      <td>0</td>\n",
       "      <td>0.0</td>\n",
       "      <td>0.0</td>\n",
       "    </tr>\n",
       "    <tr>\n",
       "      <th>7</th>\n",
       "      <td>Resort Hotel</td>\n",
       "      <td>0-9</td>\n",
       "      <td>10404</td>\n",
       "      <td>75144.0</td>\n",
       "      <td>13.8</td>\n",
       "    </tr>\n",
       "    <tr>\n",
       "      <th>8</th>\n",
       "      <td>Resort Hotel</td>\n",
       "      <td>10-19</td>\n",
       "      <td>645</td>\n",
       "      <td>5049.0</td>\n",
       "      <td>12.8</td>\n",
       "    </tr>\n",
       "    <tr>\n",
       "      <th>9</th>\n",
       "      <td>Resort Hotel</td>\n",
       "      <td>20-29</td>\n",
       "      <td>67</td>\n",
       "      <td>280.0</td>\n",
       "      <td>23.9</td>\n",
       "    </tr>\n",
       "    <tr>\n",
       "      <th>10</th>\n",
       "      <td>Resort Hotel</td>\n",
       "      <td>30-39</td>\n",
       "      <td>4</td>\n",
       "      <td>20.0</td>\n",
       "      <td>20.0</td>\n",
       "    </tr>\n",
       "    <tr>\n",
       "      <th>11</th>\n",
       "      <td>Resort Hotel</td>\n",
       "      <td>40-49</td>\n",
       "      <td>1</td>\n",
       "      <td>11.0</td>\n",
       "      <td>9.1</td>\n",
       "    </tr>\n",
       "    <tr>\n",
       "      <th>12</th>\n",
       "      <td>Resort Hotel</td>\n",
       "      <td>50-59</td>\n",
       "      <td>1</td>\n",
       "      <td>4.0</td>\n",
       "      <td>25.0</td>\n",
       "    </tr>\n",
       "    <tr>\n",
       "      <th>13</th>\n",
       "      <td>Resort Hotel</td>\n",
       "      <td>60-69</td>\n",
       "      <td>0</td>\n",
       "      <td>2.0</td>\n",
       "      <td>0.0</td>\n",
       "    </tr>\n",
       "  </tbody>\n",
       "</table>\n",
       "</div>"
      ],
      "text/plain": [
       "           hotel stay_duration  is_canceled  total_bookings  \\\n",
       "0     City Hotel           0-9        32691        153215.0   \n",
       "1     City Hotel         10-19          345          1130.0   \n",
       "2     City Hotel         20-29           52           102.0   \n",
       "3     City Hotel         30-39           10            20.0   \n",
       "4     City Hotel         40-49            0             2.0   \n",
       "5     City Hotel         50-59            0             0.0   \n",
       "6     City Hotel         60-69            0             0.0   \n",
       "7   Resort Hotel           0-9        10404         75144.0   \n",
       "8   Resort Hotel         10-19          645          5049.0   \n",
       "9   Resort Hotel         20-29           67           280.0   \n",
       "10  Resort Hotel         30-39            4            20.0   \n",
       "11  Resort Hotel         40-49            1            11.0   \n",
       "12  Resort Hotel         50-59            1             4.0   \n",
       "13  Resort Hotel         60-69            0             2.0   \n",
       "\n",
       "    cancellation_ratio  \n",
       "0                 21.3  \n",
       "1                 30.5  \n",
       "2                 51.0  \n",
       "3                 50.0  \n",
       "4                  0.0  \n",
       "5                  0.0  \n",
       "6                  0.0  \n",
       "7                 13.8  \n",
       "8                 12.8  \n",
       "9                 23.9  \n",
       "10                20.0  \n",
       "11                 9.1  \n",
       "12                25.0  \n",
       "13                 0.0  "
      ]
     },
     "execution_count": 6,
     "metadata": {},
     "output_type": "execute_result"
    }
   ],
   "source": [
    "# Membuat tabel agregat\n",
    "canceled_bookings= pd.pivot_table(df,\n",
    "                                  index=['hotel', 'stay_duration'],\n",
    "                                  values=['total_guests', 'is_canceled'],\n",
    "                                  aggfunc={'total_guests' : ['sum'], \n",
    "                                           'is_canceled' : ['sum']}\n",
    "                                ).reset_index()\n",
    "canceled_bookings.columns = ['hotel', 'stay_duration', 'is_canceled', 'total_bookings']\n",
    "\n",
    "# Menambahkan kolom ratio pembatalan booking\n",
    "canceled_bookings['cancellation_ratio'] = round(canceled_bookings['is_canceled'] / canceled_bookings['total_bookings'] * 100, 1)\n",
    "canceled_bookings['cancellation_ratio'].fillna(value=0, inplace=True)\n",
    "canceled_bookings"
   ]
  },
  {
   "cell_type": "code",
   "execution_count": 21,
   "metadata": {},
   "outputs": [
    {
     "data": {
      "image/png": "[encoded data removed]",
      "text/plain": [
       "<Figure size 1000x500 with 1 Axes>"
      ]
     },
     "metadata": {},
     "output_type": "display_data"
    }
   ],
   "source": [
    "plt.figure(figsize=(10, 5))\n",
    "\n",
    "sns.barplot(data=canceled_bookings, x='stay_duration', y='cancellation_ratio', hue='hotel')\n",
    "\n",
    "plt.title('Hubungan antara Stay Duration dan Cancellation Ratio')\n",
    "plt.xlabel('Stay Duration (Days)')\n",
    "plt.ylabel('Cancellation Ratio')\n",
    "plt.legend(loc='upper right')\n",
    "plt.grid(axis='y', linestyle='--', alpha=0.7)\n",
    "plt.tight_layout()\n",
    "plt.show()\n"
   ]
  },
  {
   "cell_type": "markdown",
   "metadata": {},
   "source": [
    "Dari visualisasi di atas dapat disimpulkan bahwa pengunjung dengan lama menginap (*Stay Duration*) antara 20-29 hari memiliki tingkat pembatalan booking (*Cancellation Ratio*) tertinggi baik untuk City Hotel maupun Resort Hotel, yaitu sebesar 51% untuk City Hotel dan 23.9% untuk Resort Hotel.\n",
    "\n",
    "Walaupun pengunjung Resort Hotel dengan *Stay Duration* 50-59 hari terlihat memiliki *Cancellation Ratio* yang tinggi, namun jumlah pengunjung dengan lama menginap sebanyak ini hanya berjumlah 4 orang sehingga belum bisa dikatakan valid."
   ]
  },
  {
   "cell_type": "markdown",
   "metadata": {},
   "source": []
  }
 ],
 "metadata": {
  "kernelspec": {
   "display_name": "base",
   "language": "python",
   "name": "python3"
  },
  "language_info": {
   "codemirror_mode": {
    "name": "ipython",
    "version": 3
   },
   "file_extension": ".py",
   "mimetype": "text/x-python",
   "name": "python",
   "nbconvert_exporter": "python",
   "pygments_lexer": "ipython3",
   "version": "3.11.5"
  }
 },
 "nbformat": 4,
 "nbformat_minor": 2
}
